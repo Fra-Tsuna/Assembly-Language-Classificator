{
  "nbformat": 4,
  "nbformat_minor": 0,
  "metadata": {
    "colab": {
      "name": "MLHom.ipynb",
      "provenance": [],
      "collapsed_sections": []
    },
    "kernelspec": {
      "name": "python3",
      "display_name": "Python 3"
    }
  },
  "cells": [
    {
      "cell_type": "markdown",
      "metadata": {
        "id": "WuRJfNLwXhgv"
      },
      "source": [
        "# **Importing libraries**"
      ]
    },
    {
      "cell_type": "code",
      "metadata": {
        "id": "p1z-EOxGHlK8",
        "outputId": "15aacbd5-8850-47f0-917b-2459aa48fb2c",
        "colab": {
          "base_uri": "https://localhost:8080/"
        }
      },
      "source": [
        "from sklearn import svm\n",
        "from sklearn.feature_extraction.text import *\n",
        "from sklearn.model_selection import train_test_split\n",
        "from sklearn.metrics import classification_report, confusion_matrix\n",
        "from sklearn.naive_bayes import MultinomialNB\n",
        "import matplotlib.pyplot as plt\n",
        "import pandas as pd\n",
        "import numpy as np\n",
        "import itertools\n",
        "import string\n",
        "\n",
        "print(\"Libraries imported\")"
      ],
      "execution_count": 37,
      "outputs": [
        {
          "output_type": "stream",
          "text": [
            "Libraries imported\n"
          ],
          "name": "stdout"
        }
      ]
    },
    {
      "cell_type": "markdown",
      "metadata": {
        "id": "e1nqieMzqr_e"
      },
      "source": [
        "Function to plot confusion matrix with labels"
      ]
    },
    {
      "cell_type": "code",
      "metadata": {
        "id": "XJIcoVasqJTO"
      },
      "source": [
        "def plot_confusion_matrix(cm,\n",
        "                          target_names,\n",
        "                          title='Confusion matrix',\n",
        "                          cmap=None,\n",
        "                          normalize=True):\n",
        "  \n",
        "    accuracy = np.trace(cm) / np.sum(cm).astype('float')\n",
        "    misclass = 1 - accuracy\n",
        "\n",
        "    if cmap is None:\n",
        "        cmap = plt.get_cmap('Blues')\n",
        "\n",
        "    plt.figure(figsize=(8, 6))\n",
        "    plt.imshow(cm, interpolation='nearest', cmap=cmap)\n",
        "    plt.title(title)\n",
        "    plt.colorbar()\n",
        "\n",
        "    if target_names is not None:\n",
        "        tick_marks = np.arange(len(target_names))\n",
        "        plt.xticks(tick_marks, target_names, rotation=45)\n",
        "        plt.yticks(tick_marks, target_names)\n",
        "\n",
        "    if normalize:\n",
        "        cm = cm.astype('float') / cm.sum(axis=1)[:, np.newaxis]\n",
        "\n",
        "\n",
        "    thresh = cm.max() / 1.5 if normalize else cm.max() / 2\n",
        "    for i, j in itertools.product(range(cm.shape[0]), range(cm.shape[1])):\n",
        "        if normalize:\n",
        "            plt.text(j, i, \"{:0.4f}\".format(cm[i, j]),\n",
        "                     horizontalalignment=\"center\",\n",
        "                     color=\"white\" if cm[i, j] > thresh else \"black\")\n",
        "        else:\n",
        "            plt.text(j, i, \"{:,}\".format(cm[i, j]),\n",
        "                     horizontalalignment=\"center\",\n",
        "                     color=\"white\" if cm[i, j] > thresh else \"black\")\n",
        "\n",
        "\n",
        "    plt.tight_layout()\n",
        "    plt.ylabel('True label')\n",
        "    plt.xlabel('Predicted label\\naccuracy={:0.4f}; misclass={:0.4f}'.format(accuracy, misclass))\n",
        "    plt.show()"
      ],
      "execution_count": 38,
      "outputs": []
    },
    {
      "cell_type": "markdown",
      "metadata": {
        "id": "SrxWOnLfXWeh"
      },
      "source": [
        "# **Loading Data**\n",
        "Mounting google drive"
      ]
    },
    {
      "cell_type": "code",
      "metadata": {
        "id": "MrdqXK-m8MMB",
        "outputId": "7fb730d9-b86e-400f-c599-46f73d1c2044",
        "colab": {
          "base_uri": "https://localhost:8080/"
        }
      },
      "source": [
        "from google.colab import drive\n",
        "drive.mount('/content/drive')"
      ],
      "execution_count": 6,
      "outputs": [
        {
          "output_type": "stream",
          "text": [
            "Mounted at /content/drive\n"
          ],
          "name": "stdout"
        }
      ]
    },
    {
      "cell_type": "markdown",
      "metadata": {
        "id": "a6XO4Up2XlEE"
      },
      "source": [
        "Reading file json"
      ]
    },
    {
      "cell_type": "code",
      "metadata": {
        "id": "V-PmRbdUIMfh"
      },
      "source": [
        "with open('/content/drive/My Drive/ML_HW/dataset.json') as f:\n",
        " data = pd.read_json(f, lines=True)"
      ],
      "execution_count": 39,
      "outputs": []
    },
    {
      "cell_type": "markdown",
      "metadata": {
        "id": "72o6YSkgXpOU"
      },
      "source": [
        "# **Preprocessing**\n",
        "We take only the necessary information"
      ]
    },
    {
      "cell_type": "code",
      "metadata": {
        "id": "9kdJJ73rJ-ZZ"
      },
      "source": [
        "X=[]\n",
        "for i in range(0, data.index.stop):\n",
        "  X.append([data[\"semantic\"][i], data[\"lista_asm\"][i]])"
      ],
      "execution_count": 40,
      "outputs": []
    },
    {
      "cell_type": "markdown",
      "metadata": {
        "id": "QTmRSzUsXxzW"
      },
      "source": [
        "We create a vocabulary composed by mnemonics of assembly language"
      ]
    },
    {
      "cell_type": "code",
      "metadata": {
        "id": "Sj5QuAO8LtKF",
        "outputId": "a3375196-335d-4d13-bee8-5362896eab47",
        "colab": {
          "base_uri": "https://localhost:8080/"
        }
      },
      "source": [
        "V=[]\n",
        "for i in range(0, len(X)):\n",
        "  for instruction in X[i][1].split(\"'\"):\n",
        "   keyword = instruction.split(\" \")\n",
        "   if keyword[0] not in V and keyword[0] not in [',',']','[']:\n",
        "      V.append(keyword[0])\n",
        "print(V)"
      ],
      "execution_count": 41,
      "outputs": [
        {
          "output_type": "stream",
          "text": [
            "['jmp', 'push', 'mov', 'cmp', 'jge', 'sub', 'je', 'jl', 'jne', 'call', 'add', 'movsxd', 'pop', 'ret', 'ucomisd', 'jp', 'pxor', 'jae', 'jb', 'test', 'movapd', 'movsd', 'divsd', 'addsd', 'xorpd', 'xor', 'nop', 'lea', 'sar', 'shr', 'and', 'neg', 'cdqe', 'movzx', 'shl', 'or', 'inc', 'cmovne', 'jle', 'dec', 'bswap', 'ror', 'rol', 'xorps', 'movaps', 'movabs', 'movq', 'punpcklqdq', 'pand', 'movdqa', 'movsx', 'paddq', 'psrlq', 'por', 'pshufd', 'movd', 'cmovl', 'jbe', 'cmove', 'jg', 'setne', 'cmovle', 'cmovge', 'setl', 'sete', 'ja', 'js', 'rep', 'jns', 'jnp', 'leave', 'not', 'imul', 'cmovg', 'cmovb', 'setle', 'setg', 'pcmpeqd', 'bt', 'subsd', 'mulsd', 'andpd', 'cdq', 'idiv', 'pinsrw', 'punpcklbw', 'punpcklwd', 'pslld', 'movdqu', 'cmovns', 'shrd', 'cmovbe', 'cmova', 'cvtsi2sd', 'cvttsd2si', 'movlpd', 'mul', 'setnp', 'punpckldq', 'adc', 'stc', 'out', 'scasb', 'in', 'sbb', 'rcl', 'fiadd', 'fcom', 'wait', 'cld', 'sqrtsd', 'psllq', 'xadd', 'pshuflw', 'pcmpeqb', 'pandn', 'setp', 'movups', 'maxsd', 'minsd', 'setae', 'setge', 'pcmpgtd', 'movss', 'ucomiss', 'repne', 'cvtsd2ss', 'cvtss2sd', 'cvtsi2ss', 'divss', 'cvttss2si', 'addss', 'subss', 'fld', 'fprem', 'fnstsw', 'cwde', 'bsr', 'seta', 'div', 'loopne', 'pinsrd', 'psubq', 'cmpnlesd', 'andnpd', 'orpd', 'movlhps', 'movupd', 'mulpd', 'subpd', 'sets', 'unpcklpd', 'pmuludq', 'cmovae', 'fldz', 'fstp', 'fld1', 'jo', 'movhlps', 'andps', 'pslldq', 'fxch', 'fucomi', 'fucomip', 'ffreep', 'punpckhbw', 'punpckhwd', 'paddd', 'fchs', 'cqo', 'cmovs', 'lodsd', 'xchg', 'shufpd', 'psrlw', 'packuswb', 'fcmove', 'jno', 'fmul', 'pshufhw', 'paddb', 'fst', 'fcmovne', 'fsubp']\n"
          ],
          "name": "stdout"
        }
      ]
    },
    {
      "cell_type": "markdown",
      "metadata": {
        "id": "14b2pyKaPqKX"
      },
      "source": [
        "We preprocess the list of instructions by removing all commas, brackets and other punctuation marks to make things easier for the vectorizer. In the same loop, we also prepare the vector that contains the classes for each sample in the dataset."
      ]
    },
    {
      "cell_type": "code",
      "metadata": {
        "id": "8RYEmqdWd6or"
      },
      "source": [
        "X2=[]\n",
        "y_all=[]\n",
        "for i in range(0, len(X)):\n",
        "  X2.append(X[i][1].translate(str.maketrans('', '', string.punctuation)))\n",
        "  y_all.append(X[i][0])"
      ],
      "execution_count": 42,
      "outputs": []
    },
    {
      "cell_type": "markdown",
      "metadata": {
        "id": "_mNPJiE2SG_D"
      },
      "source": [
        "We create our dataset. It has N rows and |V| colums. Each ij element of this matrix counts how many times the word in the j-th column appears in the i-th sample"
      ]
    },
    {
      "cell_type": "code",
      "metadata": {
        "id": "BPkyid1-Wf3N"
      },
      "source": [
        "vectorizer=CountVectorizer(vocabulary=V)\n",
        "X_all = vectorizer.fit_transform(X2)"
      ],
      "execution_count": 43,
      "outputs": []
    },
    {
      "cell_type": "markdown",
      "metadata": {
        "id": "tUroTPHJUztx"
      },
      "source": [
        "# **Split Data**"
      ]
    },
    {
      "cell_type": "markdown",
      "metadata": {
        "id": "3PEucUEdmIVo"
      },
      "source": [
        "Sets for first model"
      ]
    },
    {
      "cell_type": "code",
      "metadata": {
        "id": "LIWp20QQgf98",
        "outputId": "4996b4b5-2fc6-4c40-aead-c10d9e8d3969",
        "colab": {
          "base_uri": "https://localhost:8080/"
        }
      },
      "source": [
        "X_train1, X_test1, y_train1, y_test1 = train_test_split(X_all, y_all, \n",
        "          test_size=0.3, random_state=93189)\n",
        "\n",
        "print(\"Train: %d - Test: %d\" %(X_train1.shape[0],X_test1.shape[0]))"
      ],
      "execution_count": 44,
      "outputs": [
        {
          "output_type": "stream",
          "text": [
            "Train: 10077 - Test: 4320\n"
          ],
          "name": "stdout"
        }
      ]
    },
    {
      "cell_type": "markdown",
      "metadata": {
        "id": "5OevoFdLlgh6"
      },
      "source": [
        "Sets for second model"
      ]
    },
    {
      "cell_type": "code",
      "metadata": {
        "id": "vPjDwaLNlaBz",
        "outputId": "f912cc43-d9c8-42dd-d5a1-7498213ff6f4",
        "colab": {
          "base_uri": "https://localhost:8080/"
        }
      },
      "source": [
        "X_train2, X_test2, y_train2, y_test2 = train_test_split(X_all, y_all, \n",
        "          test_size=0.3, random_state=1338)\n",
        "\n",
        "print(\"Train: %d - Test: %d\" %(X_train2.shape[0],X_test2.shape[0]))"
      ],
      "execution_count": 45,
      "outputs": [
        {
          "output_type": "stream",
          "text": [
            "Train: 10077 - Test: 4320\n"
          ],
          "name": "stdout"
        }
      ]
    },
    {
      "cell_type": "markdown",
      "metadata": {
        "id": "zkSoFnuolvhM"
      },
      "source": [
        "# **Creating Models**"
      ]
    },
    {
      "cell_type": "markdown",
      "metadata": {
        "id": "BUoFFLVYfcfo"
      },
      "source": [
        "Model 1: SVM with linear kernel"
      ]
    },
    {
      "cell_type": "code",
      "metadata": {
        "id": "L76_iS4NVdJ-",
        "outputId": "19f51233-e30e-4ed8-91b2-386ef32c1b5f",
        "colab": {
          "base_uri": "https://localhost:8080/"
        }
      },
      "source": [
        "model1 = svm.SVC(C=1, kernel='linear')\n",
        "model1.fit(X_train1, y_train1)"
      ],
      "execution_count": 46,
      "outputs": [
        {
          "output_type": "execute_result",
          "data": {
            "text/plain": [
              "SVC(C=1, break_ties=False, cache_size=200, class_weight=None, coef0=0.0,\n",
              "    decision_function_shape='ovr', degree=3, gamma='scale', kernel='linear',\n",
              "    max_iter=-1, probability=False, random_state=None, shrinking=True,\n",
              "    tol=0.001, verbose=False)"
            ]
          },
          "metadata": {
            "tags": []
          },
          "execution_count": 46
        }
      ]
    },
    {
      "cell_type": "markdown",
      "metadata": {
        "id": "goEWBCDPSxPE"
      },
      "source": [
        "Model 2: Multinomial Naive Bayes classifier"
      ]
    },
    {
      "cell_type": "code",
      "metadata": {
        "id": "TVHFS0pPtJzU"
      },
      "source": [
        "model2 = MultinomialNB().fit(X_train2, y_train2)"
      ],
      "execution_count": 47,
      "outputs": []
    },
    {
      "cell_type": "markdown",
      "metadata": {
        "id": "OhSlyvjvgGZl"
      },
      "source": [
        "# **Evaluation**"
      ]
    },
    {
      "cell_type": "code",
      "metadata": {
        "id": "Eqoyj30ir4t_"
      },
      "source": [
        "classes=[\"encryption\", \"math\", \"string\", \"sort\"]"
      ],
      "execution_count": 48,
      "outputs": []
    },
    {
      "cell_type": "markdown",
      "metadata": {
        "id": "Gc3m-j-Jmvf3"
      },
      "source": [
        "**Prediction for first model**"
      ]
    },
    {
      "cell_type": "code",
      "metadata": {
        "id": "us6gajGBVbXF"
      },
      "source": [
        "y_pred1=model1.predict(X_test1)"
      ],
      "execution_count": 49,
      "outputs": []
    },
    {
      "cell_type": "code",
      "metadata": {
        "id": "V63UB89XVgCR",
        "outputId": "64a0363d-47e1-4ae6-96fc-f0997f708821",
        "colab": {
          "base_uri": "https://localhost:8080/"
        }
      },
      "source": [
        "print(classification_report(y_test1, y_pred1, labels=None, target_names=classes, digits=3))"
      ],
      "execution_count": 50,
      "outputs": [
        {
          "output_type": "stream",
          "text": [
            "              precision    recall  f1-score   support\n",
            "\n",
            "  encryption      0.996     0.996     0.996       834\n",
            "        math      0.992     0.998     0.995      1320\n",
            "      string      0.975     0.990     0.983      1192\n",
            "        sort      0.992     0.964     0.978       974\n",
            "\n",
            "    accuracy                          0.988      4320\n",
            "   macro avg      0.989     0.987     0.988      4320\n",
            "weighted avg      0.988     0.988     0.988      4320\n",
            "\n"
          ],
          "name": "stdout"
        }
      ]
    },
    {
      "cell_type": "code",
      "metadata": {
        "id": "qlT8ANIvgDzx",
        "outputId": "9e01574d-f7d3-4316-9939-e9cd8fe95cdc",
        "colab": {
          "base_uri": "https://localhost:8080/",
          "height": 467
        }
      },
      "source": [
        "cm1 = confusion_matrix(y_test1, y_pred1, labels=None, sample_weight=None)\n",
        "plot_confusion_matrix(cm1, classes)"
      ],
      "execution_count": 51,
      "outputs": [
        {
          "output_type": "display_data",
          "data": {
            "image/png": "[encoded data removed]",
            "text/plain": [
              "<Figure size 576x432 with 2 Axes>"
            ]
          },
          "metadata": {
            "tags": [],
            "needs_background": "light"
          }
        }
      ]
    },
    {
      "cell_type": "markdown",
      "metadata": {
        "id": "GxklicZyoIPS"
      },
      "source": [
        "Checking performances on training set to detect the presence of overfitting"
      ]
    },
    {
      "cell_type": "code",
      "metadata": {
        "id": "2-z_5hZWeVFT",
        "outputId": "1e9c5a3f-b4e8-44ff-9027-5ffec2995f6d",
        "colab": {
          "base_uri": "https://localhost:8080/",
          "height": 662
        }
      },
      "source": [
        "y_pred1tr=model1.predict(X_train1)\n",
        "\n",
        "print(classification_report(y_train1, y_pred1tr, labels=None, target_names=classes, digits=3))\n",
        "cm1tr = confusion_matrix(y_train1, y_pred1tr, labels=None, sample_weight=None)\n",
        "plot_confusion_matrix(cm1tr, classes)"
      ],
      "execution_count": 52,
      "outputs": [
        {
          "output_type": "stream",
          "text": [
            "              precision    recall  f1-score   support\n",
            "\n",
            "  encryption      0.999     0.996     0.998      1890\n",
            "        math      0.993     1.000     0.996      3184\n",
            "      string      0.985     0.995     0.990      2873\n",
            "        sort      0.996     0.972     0.984      2130\n",
            "\n",
            "    accuracy                          0.992     10077\n",
            "   macro avg      0.993     0.991     0.992     10077\n",
            "weighted avg      0.992     0.992     0.992     10077\n",
            "\n"
          ],
          "name": "stdout"
        },
        {
          "output_type": "display_data",
          "data": {
            "image/png": "[encoded data removed]",
            "text/plain": [
              "<Figure size 576x432 with 2 Axes>"
            ]
          },
          "metadata": {
            "tags": [],
            "needs_background": "light"
          }
        }
      ]
    },
    {
      "cell_type": "markdown",
      "metadata": {
        "id": "NyRAWyC9YJqV"
      },
      "source": [
        "**Prediction for the second model**"
      ]
    },
    {
      "cell_type": "code",
      "metadata": {
        "id": "mznBrfGGYElX",
        "outputId": "bb5587f6-2e73-4605-f9ea-95f4accdd753",
        "colab": {
          "base_uri": "https://localhost:8080/",
          "height": 662
        }
      },
      "source": [
        "y_pred2 = model2.predict(X_test2)\n",
        "\n",
        "print(classification_report(y_test2, y_pred2, labels=None, target_names=classes, digits=3))\n",
        "cm2 = confusion_matrix(y_test2, y_pred2, labels=None, sample_weight=None)\n",
        "plot_confusion_matrix(cm2, classes)"
      ],
      "execution_count": 53,
      "outputs": [
        {
          "output_type": "stream",
          "text": [
            "              precision    recall  f1-score   support\n",
            "\n",
            "  encryption      0.999     0.803     0.890       848\n",
            "        math      0.974     0.911     0.942      1318\n",
            "      string      0.808     0.879     0.842      1236\n",
            "        sort      0.811     0.936     0.869       918\n",
            "\n",
            "    accuracy                          0.886      4320\n",
            "   macro avg      0.898     0.882     0.886      4320\n",
            "weighted avg      0.897     0.886     0.888      4320\n",
            "\n"
          ],
          "name": "stdout"
        },
        {
          "output_type": "display_data",
          "data": {
            "image/png": "[encoded data removed]",
            "text/plain": [
              "<Figure size 576x432 with 2 Axes>"
            ]
          },
          "metadata": {
            "tags": [],
            "needs_background": "light"
          }
        }
      ]
    },
    {
      "cell_type": "markdown",
      "metadata": {
        "id": "FVk-j9o1ZI1b"
      },
      "source": [
        "Once again, we check for overfitting."
      ]
    },
    {
      "cell_type": "code",
      "metadata": {
        "id": "fsEYIiq3YWou",
        "outputId": "49545e45-0e84-49c2-e2ca-8e8d2e2b96f7",
        "colab": {
          "base_uri": "https://localhost:8080/",
          "height": 662
        }
      },
      "source": [
        "y_pred2tr=model2.predict(X_train2)\n",
        "\n",
        "print(classification_report(y_train2, y_pred2tr, labels=None, target_names=classes, digits=3))\n",
        "cm2tr = confusion_matrix(y_train2, y_pred2tr, labels=None, sample_weight=None)\n",
        "plot_confusion_matrix(cm2tr, classes)"
      ],
      "execution_count": 54,
      "outputs": [
        {
          "output_type": "stream",
          "text": [
            "              precision    recall  f1-score   support\n",
            "\n",
            "  encryption      0.999     0.799     0.888      1876\n",
            "        math      0.972     0.913     0.942      3186\n",
            "      string      0.804     0.891     0.845      2829\n",
            "        sort      0.822     0.920     0.869      2186\n",
            "\n",
            "    accuracy                          0.887     10077\n",
            "   macro avg      0.899     0.881     0.886     10077\n",
            "weighted avg      0.897     0.887     0.889     10077\n",
            "\n"
          ],
          "name": "stdout"
        },
        {
          "output_type": "display_data",
          "data": {
            "image/png": "[encoded data removed]",
            "text/plain": [
              "<Figure size 576x432 with 2 Axes>"
            ]
          },
          "metadata": {
            "tags": [],
            "needs_background": "light"
          }
        }
      ]
    },
    {
      "cell_type": "markdown",
      "metadata": {
        "id": "aAiEXDjj3-lM"
      },
      "source": [
        "# **Blind test**"
      ]
    },
    {
      "cell_type": "code",
      "metadata": {
        "id": "frrl_3JK4Av_"
      },
      "source": [
        "with open('/content/drive/My Drive/ML_HW/blindtest.json') as f:\n",
        " blind = pd.read_json(f, lines=True)"
      ],
      "execution_count": 55,
      "outputs": []
    },
    {
      "cell_type": "code",
      "metadata": {
        "id": "NzTbRH054o-_"
      },
      "source": [
        "B=[]\n",
        "for i in range(0, blind.index.stop):\n",
        "  B.append(blind[\"lista_asm\"][i])\n",
        "B2=[]\n",
        "for i in range(0, len(B)):\n",
        "  B2.append(B[i].translate(str.maketrans('', '', string.punctuation)))"
      ],
      "execution_count": 78,
      "outputs": []
    },
    {
      "cell_type": "code",
      "metadata": {
        "id": "gIPnlGTk5Ebz"
      },
      "source": [
        "B3 = vectorizer.fit_transform(B2)\n",
        "y_blind=model1.predict(B3)"
      ],
      "execution_count": 80,
      "outputs": []
    },
    {
      "cell_type": "code",
      "metadata": {
        "id": "apAwkJiR6zzU"
      },
      "source": [
        "with open('/content/drive/My Drive/ML_HW/test.txt', 'w') as w:\n",
        "  for i in range(0, len(y_blind)):\n",
        "    w.write(y_blind[i]+\"\\n\")"
      ],
      "execution_count": 81,
      "outputs": []
    }
  ]
}